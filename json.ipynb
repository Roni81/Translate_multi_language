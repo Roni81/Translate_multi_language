{
 "cells": [
  {
   "cell_type": "code",
   "execution_count": 2,
   "metadata": {},
   "outputs": [],
   "source": [
    "import json"
   ]
  },
  {
   "cell_type": "code",
   "execution_count": 28,
   "metadata": {},
   "outputs": [],
   "source": [
    "en = [\n",
    "    {\n",
    "        \"instruction\": \"한국어로 입력된 문장을 영어로 출력해 주세요.\\n번역된 영어 문장에서 키워드 3개를 추출해서 각각의 한국어 뜻과 영어 예문을 작성해주세요.출력은 아래의 출력 포맷에 따라 출력해주되 형식을 그대로 유지해주세요.\\n\\n--출력 포맷--\\n{영어 번역}\\n1. {영어단어}\\n-{한국어 의미}\\n- 영어 예문 : {영어 예문}({한국어 번역})\\n\",\n",
    "        \"user\": \"날씨가 좋습니다. 좋은 하루 보내세요\",\n",
    "        \"ai\": \"The weather is nice. Have a great day!\\n1. weather\\n- 한국어 의미: 날씨\\n- 영어 예문: The weather is perfect today. (오늘 날씨가 완벽해요.)\\n2. nice\\n- 한국어 의미: 좋은\\n- 영어 예문: She has a nice smile. (그녀는 좋은 미소를 가지고 있어요.)\\n3. day\\n- 한국어 의미: 하루\\n- 영어 예문: It was a busy day at work. (오늘은 직장에서 바쁜 하루였어요.)\"\n",
    "    },\n",
    "    {\n",
    "        \"instruction\": \"한국어로 입력된 문장을 영어로 출력해 주세요.\\n번역된 영어 문장에서 키워드 3개를 추출해서 각각의 한국어 뜻과 영어 예문을 작성해주세요.출력은 아래의 출력 포맷에 따라 출력해주되 형식을 그대로 유지해주세요.\\n\\n--출력 포맷--\\n{영어 번역}\\n1. {영어단어}\\n -{한국어 의미}\\n- 영어 예문 : {영어 예문}({한국어 번역})\\n\",\n",
    "        \"user\": \"날씨가 좋습니다. 좋은 하루 보내세요\",\n",
    "        \"ai\": \"The weather is nice. Have a great day!\\n1. weather\\n- 한국어 의미: 날씨\\n- 영어 예문: The weather is perfect today. (오늘 날씨가 완벽해요.)\\n2. nice\\n- 한국어 의미: 좋은\\n- 영어 예문: She has a nice smile. (그녀는 좋은 미소를 가지고 있어요.)\\n3. day\\n- 한국어 의미: 하루\\n- 영어 예문: It was a busy day at work. (오늘은 직장에서 바쁜 하루였어요.)\"\n",
    "    },\n",
    "    {\n",
    "        \"instruction\": \"한국어로 입력된 문장을 영어로 출력해 주세요.\\n번역된 영어 문장에서 키워드 3개를 추출해서 각각의 한국어 뜻과 영어 예문을 작성해주세요.출력은 아래의 출력 포맷에 따라 출력해주되 형식을 그대로 유지해주세요.\\n\\n--출력 포맷--\\n{영어 번역}\\n1. {영어단어}\\n-{한국어 의미}\\n- 영어 예문 : {영어 예문}({한국어 번역})\\n\",\n",
    "        \"user\": \"날씨가 좋습니다. 좋은 하루 보내세요\",\n",
    "        \"ai\": \"The weather is nice. Have a great day!\\n1. weather\\n- 한국어 의미: 날씨\\n- 영어 예문: The weather is perfect today. (오늘 날씨가 완벽해요.)\\n2. nice\\n- 한국어 의미: 좋은\\n- 영어 예문: She has a nice smile. (그녀는 좋은 미소를 가지고 있어요.)\\n3. day\\n- 한국어 의미: 하루\\n- 영어 예문: It was a busy day at work. (오늘은 직장에서 바쁜 하루였어요.)\"\n",
    "    },\n",
    "]"
   ]
  },
  {
   "cell_type": "code",
   "execution_count": 29,
   "metadata": {},
   "outputs": [],
   "source": [
    "with open('en.json', 'w') as f:\n",
    "    json.dump(en, f, ensure_ascii=False)"
   ]
  },
  {
   "cell_type": "code",
   "execution_count": 30,
   "metadata": {},
   "outputs": [
    {
     "data": {
      "text/plain": [
       "'[{\"instruction\": \"한국어로 입력된 문장을 영어로 출력해 주세요.\\\\n번역된 영어 문장에서 키워드 3개를 추출해서 각각의 한국어 뜻과 영어 예문을 작성해주세요.출력은 아래의 출력 포맷에 따라 출력해주되 형식을 그대로 유지해주세요.\\\\n\\\\n--출력 포맷--\\\\n{영어 번역}\\\\n1. {영어단어}\\\\n-{한국어 의미}\\\\n- 영어 예문 : {영어 예문}({한국어 번역})\\\\n\", \"user\": \"날씨가 좋습니다. 좋은 하루 보내세요\", \"ai\": \"The weather is nice. Have a great day!\\\\n1. weather\\\\n- 한국어 의미: 날씨\\\\n- 영어 예문: The weather is perfect today. (오늘 날씨가 완벽해요.)\\\\n2. nice\\\\n- 한국어 의미: 좋은\\\\n- 영어 예문: She has a nice smile. (그녀는 좋은 미소를 가지고 있어요.)\\\\n3. day\\\\n- 한국어 의미: 하루\\\\n- 영어 예문: It was a busy day at work. (오늘은 직장에서 바쁜 하루였어요.)\"}, {\"instruction\": \"한국어로 입력된 문장을 영어로 출력해 주세요.\\\\n번역된 영어 문장에서 키워드 3개를 추출해서 각각의 한국어 뜻과 영어 예문을 작성해주세요.출력은 아래의 출력 포맷에 따라 출력해주되 형식을 그대로 유지해주세요.\\\\n\\\\n--출력 포맷--\\\\n{영어 번역}\\\\n1. {영어단어}\\\\n -{한국어 의미}\\\\n- 영어 예문 : {영어 예문}({한국어 번역})\\\\n\", \"user\": \"날씨가 좋습니다. 좋은 하루 보내세요\", \"ai\": \"The weather is nice. Have a great day!\\\\n1. weather\\\\n- 한국어 의미: 날씨\\\\n- 영어 예문: The weather is perfect today. (오늘 날씨가 완벽해요.)\\\\n2. nice\\\\n- 한국어 의미: 좋은\\\\n- 영어 예문: She has a nice smile. (그녀는 좋은 미소를 가지고 있어요.)\\\\n3. day\\\\n- 한국어 의미: 하루\\\\n- 영어 예문: It was a busy day at work. (오늘은 직장에서 바쁜 하루였어요.)\"}, {\"instruction\": \"한국어로 입력된 문장을 영어로 출력해 주세요.\\\\n번역된 영어 문장에서 키워드 3개를 추출해서 각각의 한국어 뜻과 영어 예문을 작성해주세요.출력은 아래의 출력 포맷에 따라 출력해주되 형식을 그대로 유지해주세요.\\\\n\\\\n--출력 포맷--\\\\n{영어 번역}\\\\n1. {영어단어}\\\\n-{한국어 의미}\\\\n- 영어 예문 : {영어 예문}({한국어 번역})\\\\n\", \"user\": \"날씨가 좋습니다. 좋은 하루 보내세요\", \"ai\": \"The weather is nice. Have a great day!\\\\n1. weather\\\\n- 한국어 의미: 날씨\\\\n- 영어 예문: The weather is perfect today. (오늘 날씨가 완벽해요.)\\\\n2. nice\\\\n- 한국어 의미: 좋은\\\\n- 영어 예문: She has a nice smile. (그녀는 좋은 미소를 가지고 있어요.)\\\\n3. day\\\\n- 한국어 의미: 하루\\\\n- 영어 예문: It was a busy day at work. (오늘은 직장에서 바쁜 하루였어요.)\"}]'"
      ]
     },
     "execution_count": 30,
     "metadata": {},
     "output_type": "execute_result"
    }
   ],
   "source": [
    "with open('./en.json', encoding='utf-8') as f:\n",
    "    json_data_en = f.read()\n",
    "\n",
    "json_data_en"
   ]
  },
  {
   "cell_type": "code",
   "execution_count": 31,
   "metadata": {},
   "outputs": [
    {
     "name": "stdout",
     "output_type": "stream",
     "text": [
      "<class 'str'>\n"
     ]
    }
   ],
   "source": [
    "print(type(json_data_en))"
   ]
  },
  {
   "cell_type": "code",
   "execution_count": null,
   "metadata": {},
   "outputs": [],
   "source": []
  }
 ],
 "metadata": {
  "kernelspec": {
   "display_name": "lang-chain-GixK4_7O-py3.11",
   "language": "python",
   "name": "python3"
  },
  "language_info": {
   "codemirror_mode": {
    "name": "ipython",
    "version": 3
   },
   "file_extension": ".py",
   "mimetype": "text/x-python",
   "name": "python",
   "nbconvert_exporter": "python",
   "pygments_lexer": "ipython3",
   "version": "3.11.7"
  }
 },
 "nbformat": 4,
 "nbformat_minor": 2
}
